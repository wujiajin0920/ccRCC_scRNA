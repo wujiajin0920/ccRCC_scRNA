{
 "cells": [
  {
   "cell_type": "code",
   "execution_count": 1,
   "id": "4635ee7e-3997-4368-ad31-e5d6412d0a12",
   "metadata": {},
   "outputs": [
    {
     "name": "stdout",
     "output_type": "stream",
     "text": [
      "\n",
      "   ____            _     _    __                  \n",
      "  / __ \\____ ___  (_)___| |  / /__  _____________ \n",
      " / / / / __ `__ \\/ / ___/ | / / _ \\/ ___/ ___/ _ \\ \n",
      "/ /_/ / / / / / / / /__ | |/ /  __/ /  (__  )  __/ \n",
      "\\____/_/ /_/ /_/_/\\___/ |___/\\___/_/  /____/\\___/                                              \n",
      "\n",
      "Version: 1.6.8, Tutorials: https://omicverse.readthedocs.io/\n",
      "Dependency error: (pydeseq2 0.4.12 (/opt/anaconda3/envs/Omicverse/lib/python3.9/site-packages), Requirement.parse('pydeseq2<=0.4.0,>=0.3'))\n"
     ]
    }
   ],
   "source": [
    "import scanpy as sc\n",
    "import omicverse as ov\n",
    "import scanpy.external as sce\n",
    "ov.plot_set()"
   ]
  },
  {
   "cell_type": "code",
   "execution_count": 2,
   "id": "a89dab1a-f322-4ca8-a67e-46bc30c63006",
   "metadata": {},
   "outputs": [
    {
     "data": {
      "text/plain": [
       "AnnData object with n_obs × n_vars = 310864 × 30048\n",
       "    obs: 'orig.ident', 'nCount_RNA', 'nFeature_RNA', 'group', 'dataset'"
      ]
     },
     "execution_count": 2,
     "metadata": {},
     "output_type": "execute_result"
    }
   ],
   "source": [
    "adata = sc.read_h5ad(\"RAW.h5ad\")\n",
    "adata.var_names_make_unique()\n",
    "adata.obs_names_make_unique()\n",
    "adata"
   ]
  },
  {
   "cell_type": "code",
   "execution_count": null,
   "id": "690d60d3-3f78-41c1-9da7-d2939075e2fc",
   "metadata": {
    "scrolled": true
   },
   "outputs": [
    {
     "name": "stdout",
     "output_type": "stream",
     "text": [
      "CPU mode activated\n",
      "Calculate QC metrics\n",
      "End calculation of QC metrics.\n",
      "Original cell number: 310864\n",
      "!!!It should be noted that the `sccomposite` will remove more cells than             `scrublet`!!!\n",
      "Begin of post doublets removal and QC plot using `sccomposite`\n",
      "Cuda is not available; Fitting the COMPOSITE model on RNA modality\n",
      "Warning: too few stable features to provide reliable inference.\n",
      "The RNA modality goodness-of-fit score is: 5.013529788546683 \n",
      "<3: poor fit \n",
      "3~5: moderate fit \n",
      ">5: good fit\n",
      "Cuda is not available; Fitting the COMPOSITE model on RNA modality\n",
      "The RNA modality goodness-of-fit score is: 4.751660972754328 \n",
      "<3: poor fit \n",
      "3~5: moderate fit \n",
      ">5: good fit\n",
      "Cuda is not available; Fitting the COMPOSITE model on RNA modality\n",
      "Warning: too few stable features to provide reliable inference.\n",
      "The RNA modality goodness-of-fit score is: 4.28810410784142 \n",
      "<3: poor fit \n",
      "3~5: moderate fit \n",
      ">5: good fit\n",
      "Cuda is not available; Fitting the COMPOSITE model on RNA modality\n",
      "Warning: too few stable features to provide reliable inference.\n",
      "The RNA modality goodness-of-fit score is: 4.383033259781744 \n",
      "<3: poor fit \n",
      "3~5: moderate fit \n",
      ">5: good fit\n",
      "Cuda is not available; Fitting the COMPOSITE model on RNA modality\n",
      "Warning: too few stable features to provide reliable inference.\n",
      "The RNA modality goodness-of-fit score is: 3.8647513990888083 \n",
      "<3: poor fit \n",
      "3~5: moderate fit \n",
      ">5: good fit\n",
      "Cuda is not available; Fitting the COMPOSITE model on RNA modality\n",
      "Warning: too few stable features to provide reliable inference.\n",
      "The RNA modality goodness-of-fit score is: 5.382958136571759 \n",
      "<3: poor fit \n",
      "3~5: moderate fit \n",
      ">5: good fit\n",
      "Cuda is not available; Fitting the COMPOSITE model on RNA modality\n",
      "The RNA modality goodness-of-fit score is: 4.538280755694983 \n",
      "<3: poor fit \n",
      "3~5: moderate fit \n",
      ">5: good fit\n",
      "Cuda is not available; Fitting the COMPOSITE model on RNA modality\n",
      "The RNA modality goodness-of-fit score is: 4.02840267624589 \n",
      "<3: poor fit \n",
      "3~5: moderate fit \n",
      ">5: good fit\n",
      "Cuda is not available; Fitting the COMPOSITE model on RNA modality\n",
      "Warning: too few stable features to provide reliable inference.\n",
      "The RNA modality goodness-of-fit score is: 5.3216571214360835 \n",
      "<3: poor fit \n",
      "3~5: moderate fit \n",
      ">5: good fit\n",
      "Cuda is not available; Fitting the COMPOSITE model on RNA modality\n",
      "Warning: too few stable features to provide reliable inference.\n",
      "The RNA modality goodness-of-fit score is: 4.344997799556717 \n",
      "<3: poor fit \n",
      "3~5: moderate fit \n",
      ">5: good fit\n",
      "Cuda is not available; Fitting the COMPOSITE model on RNA modality\n",
      "The RNA modality goodness-of-fit score is: 5.735871468471047 \n",
      "<3: poor fit \n",
      "3~5: moderate fit \n",
      ">5: good fit\n",
      "Cuda is not available; Fitting the COMPOSITE model on RNA modality\n",
      "The RNA modality goodness-of-fit score is: 6.43529989155827 \n",
      "<3: poor fit \n",
      "3~5: moderate fit \n",
      ">5: good fit\n",
      "Cuda is not available; Fitting the COMPOSITE model on RNA modality\n",
      "The RNA modality goodness-of-fit score is: 7.725556072761034 \n",
      "<3: poor fit \n",
      "3~5: moderate fit \n",
      ">5: good fit\n",
      "Cuda is not available; Fitting the COMPOSITE model on RNA modality\n",
      "The RNA modality goodness-of-fit score is: 6.780260776060477 \n",
      "<3: poor fit \n",
      "3~5: moderate fit \n",
      ">5: good fit\n",
      "Cuda is not available; Fitting the COMPOSITE model on RNA modality\n",
      "Warning: too few stable features to provide reliable inference.\n",
      "The RNA modality goodness-of-fit score is: 4.274911352253587 \n",
      "<3: poor fit \n",
      "3~5: moderate fit \n",
      ">5: good fit\n",
      "Cuda is not available; Fitting the COMPOSITE model on RNA modality\n",
      "Warning: too few stable features to provide reliable inference.\n",
      "The RNA modality goodness-of-fit score is: 4.220735822265175 \n",
      "<3: poor fit \n",
      "3~5: moderate fit \n",
      ">5: good fit\n",
      "Cuda is not available; Fitting the COMPOSITE model on RNA modality\n",
      "The RNA modality goodness-of-fit score is: 12.358832926957493 \n",
      "<3: poor fit \n",
      "3~5: moderate fit \n",
      ">5: good fit\n",
      "Cuda is not available; Fitting the COMPOSITE model on RNA modality\n",
      "The RNA modality goodness-of-fit score is: 6.290279827618311 \n",
      "<3: poor fit \n",
      "3~5: moderate fit \n",
      ">5: good fit\n",
      "Cuda is not available; Fitting the COMPOSITE model on RNA modality\n",
      "Warning: too few stable features to provide reliable inference.\n",
      "The RNA modality goodness-of-fit score is: 4.326982915528585 \n",
      "<3: poor fit \n",
      "3~5: moderate fit \n",
      ">5: good fit\n",
      "Cuda is not available; Fitting the COMPOSITE model on RNA modality\n",
      "Warning: too few stable features to provide reliable inference.\n",
      "The RNA modality goodness-of-fit score is: 4.179296905395536 \n",
      "<3: poor fit \n",
      "3~5: moderate fit \n",
      ">5: good fit\n",
      "Cuda is not available; Fitting the COMPOSITE model on RNA modality\n",
      "Warning: too few stable features to provide reliable inference.\n",
      "The RNA modality goodness-of-fit score is: 4.318041218171375 \n",
      "<3: poor fit \n",
      "3~5: moderate fit \n",
      ">5: good fit\n",
      "Cuda is not available; Fitting the COMPOSITE model on RNA modality\n",
      "Warning: too few stable features to provide reliable inference.\n",
      "The RNA modality goodness-of-fit score is: 4.493057053276801 \n",
      "<3: poor fit \n",
      "3~5: moderate fit \n",
      ">5: good fit\n",
      "Cuda is not available; Fitting the COMPOSITE model on RNA modality\n",
      "Warning: too few stable features to provide reliable inference.\n",
      "The RNA modality goodness-of-fit score is: 4.33919930059131 \n",
      "<3: poor fit \n",
      "3~5: moderate fit \n",
      ">5: good fit\n",
      "Cuda is not available; Fitting the COMPOSITE model on RNA modality\n",
      "Warning: too few stable features to provide reliable inference.\n",
      "The RNA modality goodness-of-fit score is: 4.2423626352391075 \n",
      "<3: poor fit \n",
      "3~5: moderate fit \n",
      ">5: good fit\n",
      "Cuda is not available; Fitting the COMPOSITE model on RNA modality\n",
      "Warning: too few stable features to provide reliable inference.\n",
      "The RNA modality goodness-of-fit score is: 4.216506477473678 \n",
      "<3: poor fit \n",
      "3~5: moderate fit \n",
      ">5: good fit\n",
      "Cuda is not available; Fitting the COMPOSITE model on RNA modality\n",
      "Warning: too few stable features to provide reliable inference.\n",
      "The RNA modality goodness-of-fit score is: 4.320527302450006 \n",
      "<3: poor fit \n",
      "3~5: moderate fit \n",
      ">5: good fit\n",
      "Cuda is not available; Fitting the COMPOSITE model on RNA modality\n",
      "Warning: too few stable features to provide reliable inference.\n",
      "The RNA modality goodness-of-fit score is: 4.590502907509127 \n",
      "<3: poor fit \n",
      "3~5: moderate fit \n",
      ">5: good fit\n",
      "Cuda is not available; Fitting the COMPOSITE model on RNA modality\n",
      "Warning: too few stable features to provide reliable inference.\n"
     ]
    }
   ],
   "source": [
    "adata=ov.pp.qc(adata,\n",
    "              tresh={'mito_perc': 0.1, 'nUMIs': 1000, 'detected_genes': 500},\n",
    "               doublets_method='sccomposite',\n",
    "              batch_key=\"orig.ident\")\n",
    "adata"
   ]
  },
  {
   "cell_type": "code",
   "execution_count": null,
   "id": "bf6846f6-5eff-4b2a-b484-da11b6552ee4",
   "metadata": {},
   "outputs": [],
   "source": [
    "ov.utils.store_layers(adata,layers=\"counts\")\n",
    "adata.layers[\"counts\"]=adata.X.copy()"
   ]
  },
  {
   "cell_type": "code",
   "execution_count": null,
   "id": "d7626c8a-ee78-4f43-b658-d2aef6bda534",
   "metadata": {},
   "outputs": [],
   "source": [
    "adata.write_h5ad('/Volumes/WD/QCnod.h5ad',compression='gzip')"
   ]
  },
  {
   "cell_type": "code",
   "execution_count": null,
   "id": "ddbd61de-0605-4ade-9f4d-6271156c28c6",
   "metadata": {},
   "outputs": [],
   "source": [
    "adata=ov.pp.preprocess(adata,mode='shiftlog|seurat',\n",
    "                       n_HVGs=2000,batch_key=None)\n",
    "adata"
   ]
  },
  {
   "cell_type": "code",
   "execution_count": null,
   "id": "7d786e8d-aebc-4429-8bdf-6e5f8c4d4d22",
   "metadata": {},
   "outputs": [],
   "source": [
    "adata.raw = adata\n",
    "adata = adata[:, adata.var.highly_variable_features]\n",
    "adata"
   ]
  },
  {
   "cell_type": "code",
   "execution_count": null,
   "id": "50287817-a655-4277-9c8f-fdbf538044f8",
   "metadata": {},
   "outputs": [],
   "source": [
    "ov.pp.scale(adata)\n",
    "ov.pp.pca(adata,layer='scaled',n_pcs=50,mask_var='highly_variable_features')\n",
    "adata"
   ]
  },
  {
   "cell_type": "code",
   "execution_count": null,
   "id": "d2cfe788-401d-464c-8f29-41cb076badcd",
   "metadata": {},
   "outputs": [],
   "source": [
    "adata"
   ]
  },
  {
   "cell_type": "code",
   "execution_count": null,
   "id": "d9a4864a-a747-4885-8224-e68361dd7718",
   "metadata": {},
   "outputs": [],
   "source": [
    "adata_harmony=ov.single.batch_correction(adata,batch_key='orig.ident',\n",
    "                                        methods='harmony',n_pcs=30)\n",
    "adata"
   ]
  },
  {
   "cell_type": "code",
   "execution_count": null,
   "id": "24c79943-1ae3-42f5-b65e-9639bd32037c",
   "metadata": {},
   "outputs": [],
   "source": [
    "sc.pp.neighbors(adata, n_neighbors=15, n_pcs=30,\n",
    "               use_rep='X_harmony')\n",
    "sc.tl.umap(adata)\n",
    "sc.tl.leiden(adata,resolution=0.3)"
   ]
  },
  {
   "cell_type": "code",
   "execution_count": null,
   "id": "e439de38-94ac-4efc-8333-112349524de9",
   "metadata": {},
   "outputs": [],
   "source": [
    "ov.utils.embedding(adata,\n",
    "                basis='X_umap',\n",
    "                color=['leiden'],\n",
    "                frameon='small',legend_loc=\"on data\")"
   ]
  },
  {
   "cell_type": "code",
   "execution_count": null,
   "id": "660705b7-cb57-4ef5-87ba-429418745b5b",
   "metadata": {},
   "outputs": [],
   "source": [
    "marker_genes_dict = {\n",
    "    \"B_cells\": [\"CD79A\",\"CD79B\",\"MS4A1\"],\n",
    "    \"Myeloid\": [\"LYZ\",\"CD14\",\"CSF1R\",\"CD68\"],\n",
    "    'Mast_cells': [\"TPSB2\",\"TPSAB1\",\"CPA3\",\"MS4A2\"],\n",
    "    \"Plasma_cells\": [\"MZB1\",\"IGHG1\",\"IGHG2\"],\n",
    "    \"Epithelial_cells\": [\"KRT18\",\"KRT19\",\"KRT8\"],\n",
    "    \"Fibroblast\":[\"DCN\",\"COL3A1\",\"COL1A1\",\"COL1A2\",\"RGS5\",\"ACTA2\",\"MYH11\"],\n",
    "    \"Endothelial\": [\"VWF\",\"PECAM1\",\"CLDN5\",\"CDH5\",\"FLT1\"],\n",
    "    \"T-cell\": [\"CD3D\",\"CD8A\",\"CD3D\",\"CD3E\",\"CD2\"],\n",
    "    \"Proliferation\":[\"TOP2A\",\"UBE2C\",\"BIRC5\"]}\n",
    "sc.pl.dotplot(adata, marker_genes_dict, groupby='leiden', dendrogram=False, standard_scale='var',\n",
    "              cmap='Spectral_r',save=\"markergene.png\")"
   ]
  },
  {
   "cell_type": "code",
   "execution_count": null,
   "id": "8a0dd7e9-15ce-422f-beb0-10b6b83c622d",
   "metadata": {},
   "outputs": [],
   "source": [
    "cell_type_sub = {\"0\":\"T_cell\",\n",
    "\"1\":\"T_cell\",\n",
    "\"2\":\"Myeloid\",\n",
    "\"3\":\"Endothelial\",\n",
    "\"4\":\"Epithelial\",\n",
    "\"5\":\"Myeloid\",\n",
    "\"6\":\"Fibroblast\",\n",
    "\"7\":\"Epithelial\",\n",
    "\"8\":\"Epithelial\",\n",
    "\"9\":\"Myeloid\",\n",
    "\"10\":\"Epithelial\",\n",
    "\"11\":\"B_cell\",\n",
    "\"12\":\"T_cell\",\n",
    "\"13\":\"Mast_cell\",\n",
    "\"14\":\"T_cell\",\n",
    "\"15\":\"Endothelial\",\n",
    "\"16\":\"Plasma\",\n",
    "\"17\":\"Fibroblast\",\n",
    "\"18\":\"Fibroblast\",\n",
    "\"19\":\"Unclassified\",\n",
    "\"20\":\"Unclassified\"}\n",
    "adata.obs['celltype'] = adata.obs.leiden.map(cell_type_sub)\n",
    "ov.utils.embedding(adata,\n",
    "                basis='X_umap',\n",
    "                color=['celltype'],\n",
    "                frameon='small',legend_loc=\"on data\")"
   ]
  },
  {
   "cell_type": "code",
   "execution_count": null,
   "id": "40682113-6d02-4102-ac5a-392568403333",
   "metadata": {},
   "outputs": [],
   "source": [
    "adata_counts=adata.raw.to_adata().copy()\n",
    "ov.utils.retrieve_layers(adata_counts,layers='counts')\n",
    "print('normalize adata:',adata.X.max())\n",
    "print('raw count adata:',adata_counts.X.max())\n",
    "adata_counts"
   ]
  },
  {
   "cell_type": "code",
   "execution_count": null,
   "id": "a75b04a5-8386-4940-b812-6b8965418b05",
   "metadata": {},
   "outputs": [],
   "source": [
    "adata_counts.write_h5ad('/Volumes/WD/CelltypeRaw.h5ad',compression='gzip')"
   ]
  }
 ],
 "metadata": {
  "kernelspec": {
   "display_name": "Python 3 (ipykernel)",
   "language": "python",
   "name": "python3"
  },
  "language_info": {
   "codemirror_mode": {
    "name": "ipython",
    "version": 3
   },
   "file_extension": ".py",
   "mimetype": "text/x-python",
   "name": "python",
   "nbconvert_exporter": "python",
   "pygments_lexer": "ipython3",
   "version": "3.9.18"
  }
 },
 "nbformat": 4,
 "nbformat_minor": 5
}
